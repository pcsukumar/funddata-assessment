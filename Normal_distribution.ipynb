{
 "cells": [
  {
   "cell_type": "markdown",
   "id": "74c345e3-c6b2-4e56-a508-c9ce0c66bc52",
   "metadata": {},
   "source": [
    "## Normal Distribution"
   ]
  },
  {
   "cell_type": "markdown",
   "id": "ce96bff6-33d8-46d5-a1a6-8f89087f8b99",
   "metadata": {},
   "source": [
    "The law of large numbers is a statistical principle that states that as the sample size of an experiment increases, the average of the results will approach the expected value. This means that as the sample size increases, the sample mean becomes a more accurate estimate of the true population mean. However, the law of large numbers does not provide information about how close the estimate is to the true population parameter, regardless of the number of times the experiment is run.\n",
    "\n",
    "To address this issue, the central limit theorem can be used. This statistical principle states that the distribution of the sample mean will approximate a normal distribution as the sample size increases, even if the underlying population is not normally distributed. In other words, the central limit theorem states that the sample mean will be approximately normally distributed, provided that the sample size is sufficiently large.\n",
    "\n",
    "The concepts of normal curve, which is bell shaped, is the key concept of the central limit theorem. The normal curve is symmetrical around the expected value of the underlying probability distribution. The standard deviation, which is a measure of the spread of a random variable around its expected value, determines the peakedness of the curve. In other words, the standard deviation is used to measure the spread of the probability distribution (Tijms , 2012)."
   ]
  },
  {
   "cell_type": "markdown",
   "id": "dbfff7ec-c26c-4563-b82e-c50a567a1745",
   "metadata": {},
   "source": [
    "The bell shaped normal distribution can be described by the function\n",
    "\n",
    "$$ f(x) = \\frac{1}{\\sqrt{2 \\pi \\sigma^2 }} e^{-\\frac{(x - \\mu)^2}{2 \\sigma^2}} $$"
   ]
  },
  {
   "cell_type": "markdown",
   "id": "2837674c-c8e6-439f-b036-05b98b9f4ddc",
   "metadata": {},
   "source": [
    "The function is defined by two parameters viz. $\\mu$ and $\\sigma$, where $\\mu$ determine the location of the parameter and $\\sigma$ determine the shape."
   ]
  },
  {
   "cell_type": "code",
   "execution_count": 16,
   "id": "73df9080-50c7-4f7e-bfaf-74d499e30d3d",
   "metadata": {},
   "outputs": [],
   "source": [
    "#Import necessary packages\n",
    "import pandas as pd\n",
    "import numpy as np\n",
    "import matplotlib.pyplot as plt\n",
    "from scipy.stats import norm\n",
    "import random"
   ]
  },
  {
   "cell_type": "code",
   "execution_count": null,
   "id": "1e7d4380-feb8-4188-aad2-7fe15ab724a0",
   "metadata": {},
   "outputs": [
    {
     "data": {
      "image/png": "[encoded data removed]",
      "text/plain": [
       "<Figure size 432x288 with 1 Axes>"
      ]
     },
     "metadata": {
      "needs_background": "light"
     },
     "output_type": "display_data"
    }
   ],
   "source": [
    "plt.hist(heights)\n",
    "plt.show()"
   ]
  },
  {
   "cell_type": "markdown",
   "id": "f3e6322d-c76b-4a52-a5ed-364ad0d8d039",
   "metadata": {},
   "source": [
    "### References"
   ]
  },
  {
   "cell_type": "markdown",
   "id": "0d203845-1348-493d-809a-24e1713f9562",
   "metadata": {},
   "source": [
    "1. Tijms H (2012), Understanding Probability. Cambridge University Press."
   ]
  }
 ],
 "metadata": {
  "kernelspec": {
   "display_name": "Python 3 (ipykernel)",
   "language": "python",
   "name": "python3"
  },
  "language_info": {
   "codemirror_mode": {
    "name": "ipython",
    "version": 3
   },
   "file_extension": ".py",
   "mimetype": "text/x-python",
   "name": "python",
   "nbconvert_exporter": "python",
   "pygments_lexer": "ipython3",
   "version": "3.9.7"
  }
 },
 "nbformat": 4,
 "nbformat_minor": 5
}
