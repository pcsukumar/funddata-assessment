{
 "cells": [
  {
   "cell_type": "markdown",
   "id": "74c345e3-c6b2-4e56-a508-c9ce0c66bc52",
   "metadata": {},
   "source": [
    "## Normal Distribution"
   ]
  },
  {
   "cell_type": "code",
   "execution_count": 4,
   "id": "73df9080-50c7-4f7e-bfaf-74d499e30d3d",
   "metadata": {},
   "outputs": [],
   "source": [
    "#Import necessary packages\n",
    "import pandas as pd\n",
    "import numpy as np\n",
    "import matplotlib.pyplot as plt\n",
    "from scipy.stats import norm\n",
    "import random"
   ]
  },
  {
   "cell_type": "markdown",
   "id": "5a078571-619d-46be-9d20-add013305f74",
   "metadata": {},
   "source": [
    "##### Normal distribution"
   ]
  },
  {
   "cell_type": "markdown",
   "id": "ce96bff6-33d8-46d5-a1a6-8f89087f8b99",
   "metadata": {},
   "source": [
    "The law of large numbers is a statistical principle that states that as the sample size of an experiment increases, the average of the results will approach the expected value. This means that as the sample size increases, the sample mean becomes a more accurate estimate of the true population mean. However, the law of large numbers does not provide information about how close the estimate is to the true population parameter, regardless of the number of times the experiment is run.\n",
    "\n",
    "To address this issue, the central limit theorem can be used. This statistical principle states that the distribution of the sample mean will approximate a normal distribution as the sample size increases, even if the underlying population is not normally distributed. In other words, the central limit theorem states that the sample mean will be approximately normally distributed, provided that the sample size is sufficiently large. A lot of measures in the real world are normaly distributed; heights, weights, IQ scores etc. are a few examples.\n",
    "\n",
    "The concepts of normal curve, which is bell shaped, is the key concept of the central limit theorem. The normal curve is symmetrical around the expected value of the underlying probability distribution. The normal distribution is symmetrical, with the mean, median, and mode all equal to the same value. Most of the observations are concentrated at the centre and the measure of the central tendency, like the 'mean', determines the location of the peak of the curve. The standard deviation determines the spread of the distribution, with a larger standard deviation resulting in a wider distribution and a smaller standard deviation resulting in a narrower distribution (Tijms , 2012)."
   ]
  },
  {
   "cell_type": "markdown",
   "id": "dbfff7ec-c26c-4563-b82e-c50a567a1745",
   "metadata": {},
   "source": [
    "The bell shaped normal distribution can be described by the function\n",
    "\n",
    "$$ f(x) = \\frac{1}{\\sqrt{2 \\pi \\sigma^2 }} e^{-\\frac{(x - \\mu)^2}{2 \\sigma^2}} $$"
   ]
  },
  {
   "cell_type": "markdown",
   "id": "2837674c-c8e6-439f-b036-05b98b9f4ddc",
   "metadata": {},
   "source": [
    "The function is defined by two parameters viz. $\\mu$ and $\\sigma$, where $\\mu$ determine the location of the parameter and $\\sigma$ determine the shape."
   ]
  },
  {
   "cell_type": "markdown",
   "id": "f4c25490-efd7-4564-b067-44b9e44a7b51",
   "metadata": {},
   "source": [
    "##### Probability Density Function (PDF)"
   ]
  },
  {
   "cell_type": "markdown",
   "id": "eac965e4-e48a-49c5-8689-49cc09916dbf",
   "metadata": {},
   "source": [
    "The concept of probability density function (PDF) is important in describing the normal cruve. A probability density function (PDF) is a function that describes the probability of a continuous random variable taking on a particular value. This is a nonnegative for all values of the random variable, meaning the function must have a value of 0 or greater at all points. Further more, the total area under the curve of the function must be equal to 1."
   ]
  },
  {
   "cell_type": "markdown",
   "id": "702f40e5-2c69-4833-95d2-ea5fe411b327",
   "metadata": {},
   "source": [
    "An important property of the normal distribution is the emperical rule. The empirical rule states that for a normal distribution, approximately 68% of the data falls within one standard deviation of the mean, 95% falls within two standard deviations of the mean, and 99.7% falls within three standard deviations of the mean. This is an important concept in statistics as if we know the distribution is normal, then we can use the empirical rule to predict where most of the data will fall within the distribution."
   ]
  },
  {
   "cell_type": "markdown",
   "id": "da46ba78-3646-4fb5-b9a4-11ced736dfc3",
   "metadata": {},
   "source": [
    "##### Cumulative Density Function (CDF)"
   ]
  },
  {
   "cell_type": "markdown",
   "id": "fa1ef060-999a-489d-a4ad-da4ac8133461",
   "metadata": {},
   "source": [
    "It is possible to understand the probability of different values in a normal distribution using the cumulative distribution function (CDF). This is achieved by transforming the distribution to the \"standard normal\" distribution and look up the corresponding value in the standard normal CDF. The CDF gives the probability that a random variable will take on a value less than or equal to the value you specify."
   ]
  },
  {
   "cell_type": "markdown",
   "id": "72f7f2d5-b119-463c-8bd5-ebb761b4a258",
   "metadata": {},
   "source": [
    "##### Standard Normal Distribution"
   ]
  },
  {
   "cell_type": "markdown",
   "id": "2e161b73-dd74-4fd4-98eb-1173c3c2daee",
   "metadata": {},
   "source": [
    "The standard normal distribution is a special type of normal distribution in which the mean is 0 and the standard deviation is 1. This means that the distribution is centered around 0, and most of the data points are within one standard deviation of the mean. Standard normal distributions are often used in statistical analysis because they are a useful way to model and analyze real-world data. "
   ]
  },
  {
   "cell_type": "code",
   "execution_count": 17,
   "id": "1987375d-7c1c-4168-a750-1f365e9cb4cc",
   "metadata": {},
   "outputs": [],
   "source": [
    "#To generate a sample of standard normal distribution\n",
    "df = np.random.normal(loc=0.0, scale=1.0, size=1000)"
   ]
  },
  {
   "cell_type": "code",
   "execution_count": 18,
   "id": "3a72620e-661f-4555-9f6f-a29500517492",
   "metadata": {},
   "outputs": [
    {
     "data": {
      "text/plain": [
       "0.06276040925465527"
      ]
     },
     "execution_count": 18,
     "metadata": {},
     "output_type": "execute_result"
    }
   ],
   "source": [
    "#find mean of sample\n",
    "np.mean(df)"
   ]
  },
  {
   "cell_type": "code",
   "execution_count": 19,
   "id": "4bfeff90-4c5c-4b60-a876-f27fe4742a62",
   "metadata": {},
   "outputs": [
    {
     "data": {
      "text/plain": [
       "1.0062696873494326"
      ]
     },
     "execution_count": 19,
     "metadata": {},
     "output_type": "execute_result"
    }
   ],
   "source": [
    "#find standard deviation of sample\n",
    "np.std(df, ddof=1)"
   ]
  },
  {
   "cell_type": "markdown",
   "id": "36cb67ad-6786-4750-849e-436473f12e7e",
   "metadata": {},
   "source": [
    "The mean is close to 0 and standard deviation is close to 1."
   ]
  },
  {
   "cell_type": "code",
   "execution_count": 24,
   "id": "2cca8dff-e0da-40c4-a725-6b9ebc2912d8",
   "metadata": {},
   "outputs": [
    {
     "data": {
      "image/png": "[encoded data removed]",
      "text/plain": [
       "<Figure size 432x288 with 1 Axes>"
      ]
     },
     "metadata": {
      "needs_background": "light"
     },
     "output_type": "display_data"
    }
   ],
   "source": [
    "# Generate a histogram of the sample data\n",
    "plt.hist(df, bins=35)\n",
    "\n",
    "# Add a title and labels to the axes\n",
    "plt.title('Histogram of Normal Distribution')\n",
    "plt.xlabel('X')\n",
    "plt.ylabel('Frequency')\n",
    "\n",
    "# Show the plot\n",
    "plt.show()"
   ]
  },
  {
   "cell_type": "markdown",
   "id": "ccfa817c-f54d-4223-bf67-52bb20e4768f",
   "metadata": {},
   "source": [
    "#### An example with real world data"
   ]
  },
  {
   "cell_type": "markdown",
   "id": "1cd0d80d-a301-4c43-8c7d-3728b5fcc205",
   "metadata": {},
   "source": [
    "In the following section, the Heights and Weights Dataset will be used to check the distribution of the height data. This simulated dataset contains 25,000 synthetic records of human heights and weights of 18 years old children. http://socr.ucla.edu/docs/resources/SOCR_Data/SOCR_Data_Dinov_020108_HeightsWeights.html"
   ]
  },
  {
   "cell_type": "code",
   "execution_count": 7,
   "id": "1a5f801f-182c-4804-9d45-0c17d5bc5e09",
   "metadata": {},
   "outputs": [
    {
     "data": {
      "text/html": [
       "<div>\n",
       "<style scoped>\n",
       "    .dataframe tbody tr th:only-of-type {\n",
       "        vertical-align: middle;\n",
       "    }\n",
       "\n",
       "    .dataframe tbody tr th {\n",
       "        vertical-align: top;\n",
       "    }\n",
       "\n",
       "    .dataframe thead th {\n",
       "        text-align: right;\n",
       "    }\n",
       "</style>\n",
       "<table border=\"1\" class=\"dataframe\">\n",
       "  <thead>\n",
       "    <tr style=\"text-align: right;\">\n",
       "      <th></th>\n",
       "      <th>Index</th>\n",
       "      <th>Height(Inches)</th>\n",
       "      <th>Weight(Pounds)</th>\n",
       "    </tr>\n",
       "  </thead>\n",
       "  <tbody>\n",
       "    <tr>\n",
       "      <th>0</th>\n",
       "      <td>1</td>\n",
       "      <td>65.78331</td>\n",
       "      <td>112.9925</td>\n",
       "    </tr>\n",
       "    <tr>\n",
       "      <th>1</th>\n",
       "      <td>2</td>\n",
       "      <td>71.51521</td>\n",
       "      <td>136.4873</td>\n",
       "    </tr>\n",
       "    <tr>\n",
       "      <th>2</th>\n",
       "      <td>3</td>\n",
       "      <td>69.39874</td>\n",
       "      <td>153.0269</td>\n",
       "    </tr>\n",
       "    <tr>\n",
       "      <th>3</th>\n",
       "      <td>4</td>\n",
       "      <td>68.21660</td>\n",
       "      <td>142.3354</td>\n",
       "    </tr>\n",
       "    <tr>\n",
       "      <th>4</th>\n",
       "      <td>5</td>\n",
       "      <td>67.78781</td>\n",
       "      <td>144.2971</td>\n",
       "    </tr>\n",
       "  </tbody>\n",
       "</table>\n",
       "</div>"
      ],
      "text/plain": [
       "   Index  Height(Inches)  Weight(Pounds)\n",
       "0      1        65.78331        112.9925\n",
       "1      2        71.51521        136.4873\n",
       "2      3        69.39874        153.0269\n",
       "3      4        68.21660        142.3354\n",
       "4      5        67.78781        144.2971"
      ]
     },
     "execution_count": 7,
     "metadata": {},
     "output_type": "execute_result"
    }
   ],
   "source": [
    "#Read data file\n",
    "df = pd.read_csv('SOCR-HeightWeight.csv')\n",
    "df.head()"
   ]
  },
  {
   "cell_type": "code",
   "execution_count": 15,
   "id": "ac5b0aa2-baf4-4095-aadb-ea794d83a3ce",
   "metadata": {},
   "outputs": [
    {
     "name": "stdout",
     "output_type": "stream",
     "text": [
      "Minimum value: 60.27836\n",
      "Mean value: 67.99311359679979\n",
      "Maximum value: 75.1528\n",
      "Standard deviation: 1.901678771205604\n"
     ]
    }
   ],
   "source": [
    "#Read height data\n",
    "height = df['Height(Inches)']\n",
    "\n",
    "# Calculate the minimum, mean, maximum, and standard deviation of the height\n",
    "min_value = height.min()\n",
    "mean_value = height.mean()\n",
    "max_value = height.max()\n",
    "std_value = height.std()\n",
    "\n",
    "# Print the results\n",
    "print(\"Minimum value:\", min_value)\n",
    "print(\"Mean value:\", mean_value)\n",
    "print(\"Maximum value:\", max_value)\n",
    "print(\"Standard deviation:\", std_value)"
   ]
  },
  {
   "cell_type": "code",
   "execution_count": 28,
   "id": "1e7d4380-feb8-4188-aad2-7fe15ab724a0",
   "metadata": {},
   "outputs": [
    {
     "data": {
      "image/png": "[encoded data removed]",
      "text/plain": [
       "<Figure size 720x576 with 1 Axes>"
      ]
     },
     "metadata": {
      "needs_background": "light"
     },
     "output_type": "display_data"
    }
   ],
   "source": [
    "#Set the figure size\n",
    "plt.figure(figsize=(10, 8))\n",
    "\n",
    "#Read height data\n",
    "height = df['Height(Inches)']\n",
    "\n",
    "# Plot the histogram\n",
    "plt.hist(height, bins=35)\n",
    "\n",
    "# Add a title and axis labels\n",
    "plt.title('Histogram of height data')\n",
    "plt.xlabel('Height')\n",
    "plt.ylabel('Frequency')\n",
    "\n",
    "# Show the plot\n",
    "plt.show()"
   ]
  },
  {
   "cell_type": "markdown",
   "id": "e9148e70-6d39-4fda-9c2d-5a61a284251e",
   "metadata": {},
   "source": [
    "It is obvious from the histogram above that most of the values are centred around 68 inch, which is the mean."
   ]
  },
  {
   "cell_type": "markdown",
   "id": "6f1006f8-886f-4105-92f4-fbae8d084cdc",
   "metadata": {},
   "source": [
    "##### Fitting a normal curve to the histogram"
   ]
  },
  {
   "cell_type": "markdown",
   "id": "97dfcc22-cab7-46c3-ac74-6482c76e6ffe",
   "metadata": {},
   "source": [
    "Now a normal curve can be fitted to the above histogram."
   ]
  },
  {
   "cell_type": "code",
   "execution_count": 29,
   "id": "b917ab18-d423-4177-b013-4509a5898f7b",
   "metadata": {},
   "outputs": [
    {
     "data": {
      "image/png": "[encoded data removed]",
      "text/plain": [
       "<Figure size 720x576 with 1 Axes>"
      ]
     },
     "metadata": {
      "needs_background": "light"
     },
     "output_type": "display_data"
    }
   ],
   "source": [
    "#Set the figure size\n",
    "plt.figure(figsize=(10, 8))\n",
    "\n",
    "#Code source: https://www.geeksforgeeks.org/how-to-plot-normal-distribution-over-histogram-in-python/\n",
    "mu, std = norm.fit(height)\n",
    "\n",
    "# Plot the histogram.\n",
    "plt.hist(height, bins=35, density=True, alpha=0.6, color='b')\n",
    "\n",
    "# Plot the PDF.\n",
    "xmin, xmax = plt.xlim()\n",
    "x = np.linspace(xmin, xmax, 100)\n",
    "p = norm.pdf(x, mu, std)\n",
    "  \n",
    "plt.plot(x, p, 'k', linewidth=2)\n",
    "title = \"Fit Values: {:.2f} and {:.2f}\".format(mu, std)\n",
    "plt.title(title)\n",
    "  \n",
    "plt.show()"
   ]
  },
  {
   "cell_type": "markdown",
   "id": "e3065461-cf6a-42e1-8e33-cccad2c863e6",
   "metadata": {},
   "source": [
    "##### Apply the emperical rule predict where the data is likely to fall within the distribution."
   ]
  },
  {
   "cell_type": "code",
   "execution_count": 41,
   "id": "d09f0018-b859-4234-a971-6cf98deaf626",
   "metadata": {},
   "outputs": [
    {
     "name": "stdout",
     "output_type": "stream",
     "text": [
      "68% of observation falls between 66.09 and 69.89\n",
      "95% of observation falls between 64.19 and 71.80\n",
      "99.7% of observation falls between 62.29 and 73.70\n"
     ]
    }
   ],
   "source": [
    "# Apply the empirical rule to predict where the data is likely to fall within the distribution\n",
    "lower_bound_1std = mu - std\n",
    "upper_bound_1std = mu + std\n",
    "lower_bound_2std = mu - 2*std\n",
    "upper_bound_2std = mu + 2*std\n",
    "lower_bound_3std = mu - 3*std\n",
    "upper_bound_3std = mu + 3*std\n",
    "\n",
    "# Print the results\n",
    "print(f\"68% of observation falls between {lower_bound_1std:.2f} and {upper_bound_1std:.2f}\")\n",
    "print(f\"95% of observation falls between {lower_bound_2std:.2f} and {upper_bound_2std:.2f}\")\n",
    "print(f\"99.7% of observation falls between {lower_bound_3std:.2f} and {upper_bound_3std:.2f}\")"
   ]
  },
  {
   "cell_type": "markdown",
   "id": "84ffec58-b369-4e27-9cdf-0d883f001ee2",
   "metadata": {},
   "source": [
    "#### Calculating the percentile"
   ]
  },
  {
   "cell_type": "markdown",
   "id": "db2300b8-8dbe-45c7-8f68-cd61328c10eb",
   "metadata": {},
   "source": [
    "It is possible calculate the percentile of a value which is a measure of the relative standing of a value in a distribution. Percentile represents the percentage of values in the distribution that are equal to or less than the value of our choice. For example, if a value is at the 50th percentile of a distribution, this means that 50% of the values in the distribution are equal to or less than that value. Similarly, if a value is at the 99th percentile of a distribution, this means that only 1% of the values in the distribution are above that value."
   ]
  },
  {
   "cell_type": "code",
   "execution_count": 47,
   "id": "fbca4239-1401-435f-a626-6075079993bc",
   "metadata": {},
   "outputs": [
    {
     "name": "stdout",
     "output_type": "stream",
     "text": [
      "The percentile is 0.85\n"
     ]
    }
   ],
   "source": [
    "# Calculate the percentile of a value in the distribution\n",
    "value = 70\n",
    "percentile = norm.cdf(value, mu, std)\n",
    "\n",
    "# Print the result\n",
    "print(f\"The percentile is {percentile:.2f}\")"
   ]
  },
  {
   "cell_type": "markdown",
   "id": "0ca3bbdf-c3e9-4637-98ad-0dc02c625f16",
   "metadata": {},
   "source": [
    "#### Conclusion"
   ]
  },
  {
   "cell_type": "markdown",
   "id": "c050eae8-d6a3-4261-843b-82bea17a4421",
   "metadata": {},
   "source": [
    "The normal distribution is a type of probability distribution represented by a bell-shaped curve. It is a common tool used to model and analyze data. The normal distribution is characterized by its mean and standard deviation and is useful due to its symmetry, continuity, and non-negativity. It is utilized in a variety of fields, such as statistics, finance, engineering etc. The proparties of the normal curve often used to analyse data that is similar to a normal distribution. In summary, the normal distribution is a crucial and frequently utilized concept in statistics and data analysis."
   ]
  },
  {
   "cell_type": "markdown",
   "id": "f3e6322d-c76b-4a52-a5ed-364ad0d8d039",
   "metadata": {},
   "source": [
    "### References"
   ]
  },
  {
   "cell_type": "markdown",
   "id": "0d203845-1348-493d-809a-24e1713f9562",
   "metadata": {},
   "source": [
    "1. Tijms H (2012), Understanding Probability. Cambridge University Press."
   ]
  }
 ],
 "metadata": {
  "kernelspec": {
   "display_name": "Python 3 (ipykernel)",
   "language": "python",
   "name": "python3"
  },
  "language_info": {
   "codemirror_mode": {
    "name": "ipython",
    "version": 3
   },
   "file_extension": ".py",
   "mimetype": "text/x-python",
   "name": "python",
   "nbconvert_exporter": "python",
   "pygments_lexer": "ipython3",
   "version": "3.9.7"
  }
 },
 "nbformat": 4,
 "nbformat_minor": 5
}
