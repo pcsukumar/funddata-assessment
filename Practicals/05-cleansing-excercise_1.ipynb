{
 "cells": [
  {
   "cell_type": "markdown",
   "id": "440f1500-0d60-4a2a-b0a9-afd3511a079d",
   "metadata": {},
   "source": [
    "### 05 Cleansing Excercise 1"
   ]
  },
  {
   "cell_type": "markdown",
   "id": "efa44a4a-5825-47d8-9fbe-9e9bc38f9239",
   "metadata": {},
   "source": [
    "<h3 style=\"color: #001a79;\">Exercise 1</h3>\n",
    "\n",
    "<hr style=\"border-top: 1px solid #001a79;\" />\n",
    "\n",
    "<i h3 style=\"color: #001a79;\">Write a Python function to remove all non-alphanumeric characters from a string.</i>\n",
    "\n",
    "<hr style=\"border-top: 1px solid #001a79;\" />"
   ]
  }
 ],
 "metadata": {
  "kernelspec": {
   "display_name": "Python 3 (ipykernel)",
   "language": "python",
   "name": "python3"
  },
  "language_info": {
   "codemirror_mode": {
    "name": "ipython",
    "version": 3
   },
   "file_extension": ".py",
   "mimetype": "text/x-python",
   "name": "python",
   "nbconvert_exporter": "python",
   "pygments_lexer": "ipython3",
   "version": "3.9.7"
  }
 },
 "nbformat": 4,
 "nbformat_minor": 5
}
