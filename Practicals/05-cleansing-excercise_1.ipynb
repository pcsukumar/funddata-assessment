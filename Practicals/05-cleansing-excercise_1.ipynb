{
 "cells": [
  {
   "cell_type": "markdown",
   "id": "440f1500-0d60-4a2a-b0a9-afd3511a079d",
   "metadata": {},
   "source": [
    "### 05 Cleansing Excercise 1"
   ]
  },
  {
   "cell_type": "markdown",
   "id": "efa44a4a-5825-47d8-9fbe-9e9bc38f9239",
   "metadata": {},
   "source": [
    "<h3 style=\"color: #001a79;\">Exercise 1</h3>\n",
    "\n",
    "<hr style=\"border-top: 1px solid #001a79;\" />\n",
    "\n",
    "<i h3 style=\"color: #001a79;\">Write a Python function to remove all non-alphanumeric characters from a string.</i>\n",
    "\n",
    "<hr style=\"border-top: 1px solid #001a79;\" />"
   ]
  },
  {
   "cell_type": "markdown",
   "id": "f8e320cf-6f45-42ec-b8b2-f647e91ae10a",
   "metadata": {},
   "source": [
    "Following function removes all non-alphanumeric characters from a string"
   ]
  },
  {
   "cell_type": "code",
   "execution_count": 12,
   "id": "2688d289-e087-425c-85b8-46f71a0932a3",
   "metadata": {},
   "outputs": [],
   "source": [
    "# https://bobbyhadz.com/blog/python-remove-all-non-numeric-characters-from-string\n",
    "\n",
    "#Import re module\n",
    "import re\n",
    "\n",
    "#Function named 'remove_nonalpha' is defined. The arguments are;  the regular expression pattern to match, the replacement string, and the input string.\n",
    "\n",
    "def remove_nonalpha(string):   \n",
    "    return re.sub(r'[^a-zA-Z0-9]', '', string)"
   ]
  },
  {
   "cell_type": "code",
   "execution_count": 10,
   "id": "5a98eedb-fcd0-4030-846b-2a06291705b9",
   "metadata": {},
   "outputs": [],
   "source": [
    "#A test string is created\n",
    "string = 'a1s! and & 2d3 * f4g5 BLN T6$7'"
   ]
  },
  {
   "cell_type": "code",
   "execution_count": 9,
   "id": "cd327af2-422c-4f9e-a187-e1cb14ce7812",
   "metadata": {},
   "outputs": [
    {
     "name": "stdout",
     "output_type": "stream",
     "text": [
      "a1sand2d3f4g5BLNT67\n"
     ]
    }
   ],
   "source": [
    "#Run the function and print the result\n",
    "result = remove_nonalpha(string)\n",
    "print(result)"
   ]
  }
 ],
 "metadata": {
  "kernelspec": {
   "display_name": "Python 3 (ipykernel)",
   "language": "python",
   "name": "python3"
  },
  "language_info": {
   "codemirror_mode": {
    "name": "ipython",
    "version": 3
   },
   "file_extension": ".py",
   "mimetype": "text/x-python",
   "name": "python",
   "nbconvert_exporter": "python",
   "pygments_lexer": "ipython3",
   "version": "3.9.7"
  }
 },
 "nbformat": 4,
 "nbformat_minor": 5
}
