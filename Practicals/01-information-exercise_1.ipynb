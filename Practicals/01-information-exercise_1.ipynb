{
 "cells": [
  {
   "cell_type": "markdown",
   "id": "28dc1fd3-7711-418d-b148-6fb72fd2e8a1",
   "metadata": {
    "tags": []
   },
   "source": [
    "## 01 Information Exercise 1"
   ]
  },
  {
   "cell_type": "markdown",
   "id": "a4fe433c-5df7-47fc-9bf9-a7a969d1ff5f",
   "metadata": {},
   "source": [
    "<h3 style=\"color: #001a79;\">Exercise 1</h3>\n",
    "\n",
    "<hr style=\"border-top: 1px solid #001a79;\" />\n",
    "\n",
    "<i h3 style=\"color: #001a79;\">Adapt the code above to generate a 1000 character long string with weights based on the previous two characters.</i>\n",
    "\n",
    "<hr style=\"border-top: 1px solid #001a79;\" />"
   ]
  },
  {
   "cell_type": "markdown",
   "id": "e8d40c0d-2b16-4549-b146-7704c8e7bc50",
   "metadata": {},
   "source": [
    "#### Generate a 1000 character long string with weights based on the previous two characters"
   ]
  },
  {
   "cell_type": "markdown",
   "id": "dd82db31-8dd1-4f79-bc5e-99e0c8665263",
   "metadata": {},
   "source": [
    "This code is adapted from the class note provided by Ian McLoughlin"
   ]
  },
  {
   "cell_type": "code",
   "execution_count": 1,
   "id": "adf428d4-12df-4a2c-8be9-2cd66c4823bf",
   "metadata": {},
   "outputs": [],
   "source": [
    "# To generate random.\n",
    "import random"
   ]
  },
  {
   "cell_type": "code",
   "execution_count": 2,
   "id": "c520dd6c-1624-46e6-8d10-e90f7516d8d0",
   "metadata": {
    "tags": []
   },
   "outputs": [],
   "source": [
    "# Make HTTP requests for internet reqources.\n",
    "import urllib.request\n",
    "\n",
    "# The URL of a text version of Alice in Wonderland.\n",
    "book_url = 'https://www.gutenberg.org/files/11/11-0.txt'\n",
    "\n",
    "# Get the book.\n",
    "book = list(urllib.request.urlopen(book_url))\n",
    "\n",
    "# Decode the lines and strip line endings.\n",
    "book = [line.decode('utf-8-sig').strip() for line in book]\n"
   ]
  },
  {
   "cell_type": "code",
   "execution_count": 3,
   "id": "86a08175-77a4-4179-93b0-5c6bb72ee079",
   "metadata": {
    "tags": []
   },
   "outputs": [],
   "source": [
    "# All letters and a space.\n",
    "chars = 'abcdefghijklmnopqrstuvwxyz '"
   ]
  },
  {
   "cell_type": "code",
   "execution_count": 4,
   "id": "03471772-cd78-44f9-b3a2-73c28de801e2",
   "metadata": {
    "tags": []
   },
   "outputs": [],
   "source": [
    "# Get the whole book in one big string.\n",
    "sbook = ''.join(book[26:]).lower()"
   ]
  },
  {
   "cell_type": "markdown",
   "id": "e47b5118-8ca2-4cff-bcb4-9412e295c0c2",
   "metadata": {},
   "source": [
    "Now need to generate all possible combinations of all characters."
   ]
  },
  {
   "cell_type": "code",
   "execution_count": null,
   "id": "2d6620f4-16f5-4ee3-a0e7-02c9f3e22382",
   "metadata": {
    "scrolled": true,
    "tags": []
   },
   "outputs": [],
   "source": [
    "# Generate all possible pairs of characters.\n",
    "pairs = [(c1, c2) for c1 in chars for c2 in chars]\n",
    "\n",
    "#Create a list of all pairs\n",
    "char_pair= []\n",
    "for c1, c2 in pairs:\n",
    "  char_pair.append(c1 + c2)\n",
    "\n",
    "char_pair"
   ]
  },
  {
   "cell_type": "markdown",
   "id": "cbd11870-4ebe-4caa-8b36-3529d9a6f233",
   "metadata": {},
   "source": [
    "The code below count the frequency of letter cobination occuring in the whole book"
   ]
  },
  {
   "cell_type": "code",
   "execution_count": null,
   "id": "96ccc30c-7730-4289-a623-d4b1ba3aee22",
   "metadata": {
    "scrolled": true,
    "tags": []
   },
   "outputs": [],
   "source": [
    "# Create the weights - count the occurences of each pair of characters in the whole book.\n",
    "weights = [sbook.count(c) for c in char_pair]\n",
    "\n",
    "#To identify the most common pair\n",
    "for i in range(len(char_pair)):\n",
    "    # Print the character and how many times it appears in Alice in Wonderland.\n",
    "    print(f'{char_pair[i]}: {weights[i]}')"
   ]
  },
  {
   "cell_type": "code",
   "execution_count": 57,
   "id": "f482a754-6ae7-4a5b-add0-c231e4d00d86",
   "metadata": {
    "scrolled": true,
    "tags": []
   },
   "outputs": [
    {
     "name": "stdout",
     "output_type": "stream",
     "text": [
      " eed wndr lilini tnerequrehi it  s h aealot rochofol s oanifphd hehas ilat tand  ae e red isevn gi ongswersarpsagr s t cheuttewam ler enantejeokhant hhe ld  sng aucl caronde do tdoryitnoi  trt pugevdutht mowawontndgithe edgeanliperealits n o one  lreul wdoedalanlyifedr shssabvenetoahfogoulheacastohee of anoreul motsi me y er tthghgal ree trdy wnoeeyos forenkri sstsmrecttte heegi rcbe df inllctd shonecins  ph grrea meplditena ksn sm helihee almedothpoicn e inlerdthnogehaanns s p rr  od ha tchvenl isstat strye  arohebo in  pyoinr u m  hyegehe aceesd  cdipu ote tbycaelhefequt n unemh reidanxihe ffolo wehrile pabthiedooo tdeinasfoore ht ohebelostlyutbe btttodo tend beerinnbttli othddhed mensl cetenge s adowpstaoc lha aaw aorouhen aisthe isiutweea z ihehangnthebshes ndesthe owrthehaasarlewafandwiasonlo so d e d f ddanhefothec hstea asenoriwaergutolet i etispo qltoh t yheth ye of rshaieeea ne ovwhittge onshwa q ofrtif oustudl mie  danmaalawopwe a lutoferd  aneuphem t atci iinownde orrd oalt oovebeo onlfff pasof agu ata a ast sthliasr osidntd t ane e ac sa aiutd  aof tunancat isbealofshhe hy hehokethtg ps ofethesahedoenieanteedt avewic dalerbencn mp aug  quednxng roug wnbeaty weinpoe  patsafotheslag n radetu rsaatghimag litoutuorli o aored ioksh os th alateifunthd d t u ngdee her ulthlyyomi terokseheioaye ouig ghe ps eyinn icsyay yofpess trmhternove rmlooititinolmenoti lerowa pseeus wy e f rog ths  se nd fnobyme wknthite ofse r onlatoutruljusaananslobe coi th sartirtdored nod reinref dihe u tmae ipseinth me usbsstdieberthpla e  che theedowriewnttohet idyrelgrd isreind y iso midehce rt teyeeo  w sdrinur dthrhin sikp raheouooe if sinilwecemsceate aimanogi i tle of ig onethpebuaionn  hlae he g wpr bite ut rscatontherf tellefheone e wad viurd mypp ttlm isthdirecoeabue isesshid sows liorne lrodou ed cado  aivtteeis iaiictiwa q ds  sastoictenor  wour arotheru toworpoutina ed bfrcenghto hetdhemaf agllshmegh hst shobumu tgre o l erem al  i a hatwaoud leept kihsndncpued nos yhieldo\n"
     ]
    }
   ],
   "source": [
    "# Generate a string of lenght 1000 using weights of letter pairs.\n",
    "wgenr = random.choices(char_pair, weights=weights, k=1000)\n",
    "\n",
    "# Join them together in a string.\n",
    "wgenr = ''.join(wgenr)\n",
    "\n",
    "# Print.\n",
    "print(wgenr)"
   ]
  },
  {
   "cell_type": "code",
   "execution_count": null,
   "id": "656e81e6-635f-4122-8539-3c2c80f3ec8c",
   "metadata": {
    "scrolled": true,
    "tags": []
   },
   "outputs": [],
   "source": [
    "# Create the weights for previous two characters.\n",
    "threewghts = {c: {d: {e: sbook.count(c + d + e) for e in chars} for d in chars} for c in chars}\n",
    "print(threewghts)"
   ]
  },
  {
   "cell_type": "markdown",
   "id": "e581797e-e4a1-462f-b551-a855d76090ef",
   "metadata": {},
   "source": [
    "I tried to flatten the above dictionary so that the weight values can be accessed for the each letter pair."
   ]
  },
  {
   "cell_type": "code",
   "execution_count": null,
   "id": "3fa4cb58-6a64-4c12-88b3-cb904de3aba3",
   "metadata": {
    "scrolled": true,
    "tags": []
   },
   "outputs": [],
   "source": [
    "flattened_wt = {}\n",
    "\n",
    "for key1, value1 in threewghts.items():\n",
    "    combined_key = key1\n",
    "    inner_dict = {}\n",
    "    for key2, value2 in value1.items():\n",
    "        for key3, value3 in value2.items():\n",
    "            inner_key = key2 + key3\n",
    "            inner_dict.update({inner_key: value3})\n",
    "    flattened_wt.update({combined_key: inner_dict})\n",
    "\n",
    "flattened_wt"
   ]
  },
  {
   "cell_type": "code",
   "execution_count": 53,
   "id": "e4add89a-c0bc-42a1-a19d-bebb694b3b0b",
   "metadata": {},
   "outputs": [],
   "source": [
    "# Start with space.\n",
    "pairs = ' '\n",
    "\n",
    "# Do the following 1000 times.\n",
    "for i in range(1, 1001):\n",
    "    # Get the weights where the previous character is the last character in threes.\n",
    "    wt = flattened_wt[pairs[-1]]\n",
    "    # Turn wt into a list, ordered by chars.\n",
    "    wt = [wt[c] for c in char_pair]\n",
    "   # Randomly pick the next character using those weights.\n",
    "    nextc = random.choices(char_pair, weights=wt, k=1)[0]\n",
    "    # Append the character to twos.\n",
    "    pairs = pairs + nextc"
   ]
  },
  {
   "cell_type": "code",
   "execution_count": 54,
   "id": "2b2f0f7e-8816-44e2-b7af-c5877a199961",
   "metadata": {
    "scrolled": true,
    "tags": []
   },
   "outputs": [
    {
     "data": {
      "text/plain": [
       "' rieshibequldencear f thelime watm thece pad ourt use lf thamoreapthaw ory bered helfeld tobse hendidit ll gl id acon wn vone aid tims hiwoulicuturowhimerrly t omf therelllreve tin halwowineve fandan orky she sho tof of topie worry poo e me onowhey thathe suck uns ito lis rergives sito wid toureear he efore tette drathezento mougrast yin ay tof furre minghbilpbef as a labyout fof fonisproutch ht pife tion wor tht founowin hind ge by en morsed sphand heingrer five quicea planathed juchice care waschapropite wever t epoutter she ovoioutery hilind that ryin voresthingutherds theyesainght soly dosstarknoorieryous ane mow wand nowitheactlieetrit toucal themasstandfuthil yrighre wasco fund sainlin ind ofelar jecif thesth geryouiterumese tof wic ne quighesetras flitshunwhil s eend pead grale htelf theaslary bou ain onghe monousteren void lilew fite ll kiterse lortrain fusee it sarg nly sede malife at evoione rens se ancly a lin a here rde te bed happlionewelisucamets gever efiskyinlyoundlyet ute ch he nyt mulig igh he en ieddll an f plagand bbing at te he ags of the ope who lmoulat at af t lictirsaw iongitn f hen s avept beronown wof shadond ung ferse ondakevear htfoll ith wand thes thim to hery acked ay kn tinstwin sact the when helfthouldy hoicksup can tte w thionowharterid allieareputmill t o whig tor serncect h re ma lt prears rour ofee s agarg lach ithershof heme me malking has forathathe o id wabout arthe f teand butaxt twashelor youn as tas wome we bet versealepecinle ply tord t tmatitegingettelytho nocknon slick the st omproutre he shollocir stold vicecinguthiouse ing le rasterineas croof yordin strdsimeturelicome myoupo queeze an his c w henout thinfoulonishe wito qutilyour bagre witily he uprownowwwne sag f w lee d ittiougry e fach anlyoumbantookingy waryins t id totheon cerand n e st bacer wof wadded e fte whyounthegith haves t this habbeg ace clon share care wis nd kit hunth youn ts surthe hat tiop or arid ma pe eaybit g to fe verablyoungry fou as iice jusso by '"
      ]
     },
     "execution_count": 54,
     "metadata": {},
     "output_type": "execute_result"
    }
   ],
   "source": [
    "pairs"
   ]
  }
 ],
 "metadata": {
  "kernelspec": {
   "display_name": "Python 3 (ipykernel)",
   "language": "python",
   "name": "python3"
  },
  "language_info": {
   "codemirror_mode": {
    "name": "ipython",
    "version": 3
   },
   "file_extension": ".py",
   "mimetype": "text/x-python",
   "name": "python",
   "nbconvert_exporter": "python",
   "pygments_lexer": "ipython3",
   "version": "3.9.7"
  }
 },
 "nbformat": 4,
 "nbformat_minor": 5
}
