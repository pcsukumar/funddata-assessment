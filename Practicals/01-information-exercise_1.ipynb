{
 "cells": [
  {
   "cell_type": "markdown",
   "id": "28dc1fd3-7711-418d-b148-6fb72fd2e8a1",
   "metadata": {},
   "source": [
    "## 01 Information Exercise 1"
   ]
  },
  {
   "cell_type": "markdown",
   "id": "e8d40c0d-2b16-4549-b146-7704c8e7bc50",
   "metadata": {},
   "source": [
    "#### Generate a 1000 character long string with weights based on the previous two characters"
   ]
  },
  {
   "cell_type": "code",
   "execution_count": null,
   "id": "bbed043c-611e-40f8-ab70-6be3439f0206",
   "metadata": {},
   "outputs": [],
   "source": []
  }
 ],
 "metadata": {
  "kernelspec": {
   "display_name": "Python 3 (ipykernel)",
   "language": "python",
   "name": "python3"
  },
  "language_info": {
   "codemirror_mode": {
    "name": "ipython",
    "version": 3
   },
   "file_extension": ".py",
   "mimetype": "text/x-python",
   "name": "python",
   "nbconvert_exporter": "python",
   "pygments_lexer": "ipython3",
   "version": "3.9.7"
  }
 },
 "nbformat": 4,
 "nbformat_minor": 5
}
