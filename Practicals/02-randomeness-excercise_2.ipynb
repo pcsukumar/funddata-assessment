{
 "cells": [
  {
   "cell_type": "markdown",
   "id": "ee2146ea-9dcc-40ec-a1ae-6a71b05f2464",
   "metadata": {},
   "source": [
    "## 02 Randomness Exercise 2"
   ]
  },
  {
   "cell_type": "markdown",
   "id": "ddb16216-cc8f-4a24-88a3-ba686cfe0415",
   "metadata": {},
   "source": [
    "<h3 style=\"color: #001a79;\">Exercise 2</h3>\n",
    "\n",
    "<hr style=\"border-top: 1px solid #001a79;\" />\n",
    "\n",
    "<i style=\"color: #001a79;\">Note that there are the same number of ways to get 4 tails as there to get 4 heads. Explain why this is.</i>\n",
    "\n",
    "<hr style=\"border-top: 1px solid #001a79;\" />"
   ]
  },
  {
   "cell_type": "markdown",
   "id": "5010185e-d00d-4a02-9639-d19243a9c1bc",
   "metadata": {},
   "source": [
    "Number of ways to get 4 heads from 10 flips can be caluculated as"
   ]
  },
  {
   "cell_type": "code",
   "execution_count": 3,
   "id": "ae6a6495-4e50-4358-a08c-5bed50f9aa80",
   "metadata": {},
   "outputs": [
    {
     "data": {
      "text/plain": [
       "210"
      ]
     },
     "execution_count": 3,
     "metadata": {},
     "output_type": "execute_result"
    }
   ],
   "source": [
    "10 * 9 * 8 * 7 // (4 * 3 * 2 * 1)"
   ]
  },
  {
   "cell_type": "markdown",
   "id": "d26d423e-f386-4d82-a97f-2f58c53fdf8e",
   "metadata": {},
   "source": [
    "When tossing a fair coin, the chance of getting a head is same as getting a tail. When different outcomes are equivalent they should have the same probability. Therefore the number of ways to get 4 tails is same as 4 tails as these are complementary events. "
   ]
  }
 ],
 "metadata": {
  "kernelspec": {
   "display_name": "Python 3 (ipykernel)",
   "language": "python",
   "name": "python3"
  },
  "language_info": {
   "codemirror_mode": {
    "name": "ipython",
    "version": 3
   },
   "file_extension": ".py",
   "mimetype": "text/x-python",
   "name": "python",
   "nbconvert_exporter": "python",
   "pygments_lexer": "ipython3",
   "version": "3.9.7"
  }
 },
 "nbformat": 4,
 "nbformat_minor": 5
}
