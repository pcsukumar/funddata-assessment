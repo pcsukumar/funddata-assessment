{
 "cells": [
  {
   "cell_type": "markdown",
   "id": "43d21b20-1e8e-49d5-ad4e-ce673d5e2b34",
   "metadata": {},
   "source": [
    "## 01 Information Exercise 2"
   ]
  },
  {
   "cell_type": "markdown",
   "id": "1e55f5aa-b88d-4e4a-984f-b4adf89b0f57",
   "metadata": {},
   "source": [
    "#### Explain why the log of zero is undefined."
   ]
  },
  {
   "cell_type": "markdown",
   "id": "03135b02-f196-42bf-92e7-ea94b6b2f333",
   "metadata": {},
   "source": [
    "The logarithm of a number is the exponent to which the base of the logarithm must be raised in order to equal the number. For example, as 10^2 = 100, the logarithm base 10 of 100 is 2. Since any number raised to the power of 0 is always equal to 1, it is impossible to find an exponent that will make the base equal to or less than 0. Therefore, the logarithm of 0 is not defined. "
   ]
  }
 ],
 "metadata": {
  "kernelspec": {
   "display_name": "Python 3 (ipykernel)",
   "language": "python",
   "name": "python3"
  },
  "language_info": {
   "codemirror_mode": {
    "name": "ipython",
    "version": 3
   },
   "file_extension": ".py",
   "mimetype": "text/x-python",
   "name": "python",
   "nbconvert_exporter": "python",
   "pygments_lexer": "ipython3",
   "version": "3.9.7"
  }
 },
 "nbformat": 4,
 "nbformat_minor": 5
}
