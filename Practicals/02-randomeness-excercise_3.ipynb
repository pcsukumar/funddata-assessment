{
 "cells": [
  {
   "cell_type": "markdown",
   "id": "237f4869-d264-40e7-beb1-e73732fd5261",
   "metadata": {},
   "source": [
    "## 02 Randomness Exercise 3"
   ]
  },
  {
   "cell_type": "markdown",
   "id": "369d71b0-8333-4bf9-9d42-345babaf876a",
   "metadata": {},
   "source": [
    "<h3 style=\"color: #001a79;\">Exercise 3</h3>\n",
    "\n",
    "<hr style=\"border-top: 1px solid #001a79;\" />\n",
    "\n",
    "<i style=\"color: #001a79;\"> Plot bar charts or histograms of any three different distributions listed at the following link:\n",
    "\n",
    "https://numpy.org/doc/stable/reference/random/generator.html#distributions\n",
    "\n",
    "<hr style=\"border-top: 1px solid #001a79;\" />"
   ]
  },
  {
   "cell_type": "code",
   "execution_count": 10,
   "id": "af90df10-bfec-4af0-8f62-203bfb826daa",
   "metadata": {},
   "outputs": [],
   "source": [
    "import numpy as np\n",
    "import random\n",
    "# Plotting.\n",
    "import matplotlib.pyplot as plt"
   ]
  },
  {
   "cell_type": "markdown",
   "id": "9b7e9e9c-6992-4eee-b573-977098cb318e",
   "metadata": {},
   "source": [
    "### 1) Histogram of Beta distribution"
   ]
  },
  {
   "cell_type": "code",
   "execution_count": 15,
   "id": "edce55a1-d9ca-46ce-a175-ff18f1358030",
   "metadata": {},
   "outputs": [],
   "source": [
    "#Parameters\n",
    "#afloat or array_like of floats\n",
    "#Alpha, positive (>0).\n",
    "\n",
    "alpha = 2\n",
    "\n",
    "#bfloat or array_like of floats\n",
    "#Beta, positive (>0).\n",
    "\n",
    "beta = 3\n",
    "\n",
    "N =1000\n",
    "\n",
    "#Generate 1000 random samples from the beta distribution\n",
    "\n",
    "b_samples = np.random.beta(alpha, beta, size=1000)"
   ]
  },
  {
   "cell_type": "code",
   "execution_count": 30,
   "id": "c7ae6f51-e97c-4df1-b983-8dc7507c2c88",
   "metadata": {},
   "outputs": [
    {
     "data": {
      "image/png": "[encoded data removed]",
      "text/plain": [
       "<Figure size 432x288 with 1 Axes>"
      ]
     },
     "metadata": {
      "needs_background": "light"
     },
     "output_type": "display_data"
    }
   ],
   "source": [
    "# Plot the histogram of the samples\n",
    "plt.hist(b_samples, bins=50, density=True)\n",
    "plt.title(f'Histogram of Beta Distribution with Alpha = {alpha} and Beta = {beta}')\n",
    "plt.show()"
   ]
  },
  {
   "cell_type": "markdown",
   "id": "1560ba85-ef23-4d07-bf4c-8687bdb474bb",
   "metadata": {},
   "source": [
    "### 2) Histogram of a geometric distribution"
   ]
  },
  {
   "cell_type": "code",
   "execution_count": 13,
   "id": "3ee1bfdd-6bd2-4396-8ac2-b8bfcba59b66",
   "metadata": {},
   "outputs": [],
   "source": [
    "#Parameters\n",
    "#pfloat or array_like of floats\n",
    "#The probability of success of an individual trial.\n",
    "\n",
    "p = 0.45\n",
    "N = 10000\n",
    "\n",
    "#sizeint or tuple of ints, optional"
   ]
  },
  {
   "cell_type": "code",
   "execution_count": 18,
   "id": "56fff354-7b46-4d43-8c0d-e876a5b89854",
   "metadata": {},
   "outputs": [],
   "source": [
    "#Generatin samples\n",
    "g_samples = np.random.default_rng().geometric(p=p, size=N)"
   ]
  },
  {
   "cell_type": "code",
   "execution_count": 38,
   "id": "0066e571-6349-4648-bcfa-14f424caee98",
   "metadata": {},
   "outputs": [
    {
     "data": {
      "image/png": "[encoded data removed]",
      "text/plain": [
       "<Figure size 432x288 with 1 Axes>"
      ]
     },
     "metadata": {
      "needs_background": "light"
     },
     "output_type": "display_data"
    }
   ],
   "source": [
    "# Plot the histogram of the samples\n",
    "plt.hist(g_samples, bins=20)\n",
    "plt.title(f'Histogram of Geometic Distribution with p={p}')\n",
    "plt.show()"
   ]
  },
  {
   "cell_type": "markdown",
   "id": "62aff0fa-aa16-4e73-b73f-9ede37c1e7ab",
   "metadata": {},
   "source": [
    "### 3) Histogram of Poisson distribution"
   ]
  },
  {
   "cell_type": "code",
   "execution_count": 24,
   "id": "bcdd86e1-1bd2-4da6-be01-74f396f47f1b",
   "metadata": {},
   "outputs": [],
   "source": [
    "#Parameters\n",
    "#lam: float or array_like of floats\n",
    "\n",
    "lam = 5\n",
    "\n",
    "N = 10000"
   ]
  },
  {
   "cell_type": "code",
   "execution_count": 29,
   "id": "117b7076-7b00-4260-aac0-037f973f35e6",
   "metadata": {},
   "outputs": [],
   "source": [
    "#Generatin samples\n",
    "p_samples = np.random.poisson(lam, N)"
   ]
  },
  {
   "cell_type": "code",
   "execution_count": 42,
   "id": "a36534a0-0cf5-4259-b714-89e6175cdd79",
   "metadata": {},
   "outputs": [
    {
     "data": {
      "image/png": "[encoded data removed]",
      "text/plain": [
       "<Figure size 432x288 with 1 Axes>"
      ]
     },
     "metadata": {
      "needs_background": "light"
     },
     "output_type": "display_data"
    }
   ],
   "source": [
    "# Plot the histogram of the samples\n",
    "plt.hist(p_samples, bins=20)\n",
    "plt.title(f'Histogram of Poisson Distribution with Lambda={lam}')\n",
    "plt.show()"
   ]
  }
 ],
 "metadata": {
  "kernelspec": {
   "display_name": "Python 3 (ipykernel)",
   "language": "python",
   "name": "python3"
  },
  "language_info": {
   "codemirror_mode": {
    "name": "ipython",
    "version": 3
   },
   "file_extension": ".py",
   "mimetype": "text/x-python",
   "name": "python",
   "nbconvert_exporter": "python",
   "pygments_lexer": "ipython3",
   "version": "3.9.7"
  }
 },
 "nbformat": 4,
 "nbformat_minor": 5
}
