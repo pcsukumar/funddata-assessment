{
 "cells": [
  {
   "cell_type": "markdown",
   "id": "00d39c2d-0ded-42ef-8a9f-c72c63c3a25d",
   "metadata": {},
   "source": [
    "### 04 Outliers-Excercise 2"
   ]
  },
  {
   "cell_type": "markdown",
   "id": "bd4163d7-6365-4198-ad65-a9b933f04790",
   "metadata": {},
   "source": [
    "<h3 style=\"color: #001a79;\">Exercise 2</h3>\n",
    "\n",
    "<hr style=\"border-top: 1px solid #001a79;\" />\n",
    "\n",
    "<i h3 style=\"color: #001a79;\">Create box plots for all of the numercial variables in Fisher's Iris Data Set.</i>\n",
    "\n",
    "<hr style=\"border-top: 1px solid #001a79;\" />"
   ]
  }
 ],
 "metadata": {
  "kernelspec": {
   "display_name": "Python 3 (ipykernel)",
   "language": "python",
   "name": "python3"
  },
  "language_info": {
   "codemirror_mode": {
    "name": "ipython",
    "version": 3
   },
   "file_extension": ".py",
   "mimetype": "text/x-python",
   "name": "python",
   "nbconvert_exporter": "python",
   "pygments_lexer": "ipython3",
   "version": "3.9.7"
  }
 },
 "nbformat": 4,
 "nbformat_minor": 5
}
