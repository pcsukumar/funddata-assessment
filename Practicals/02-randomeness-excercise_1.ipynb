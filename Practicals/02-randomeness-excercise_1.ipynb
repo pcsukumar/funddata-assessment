{
 "cells": [
  {
   "cell_type": "markdown",
   "id": "64ce9c0c-305f-43b2-9258-eb3a9497ebff",
   "metadata": {},
   "source": [
    "## 02 Randomness Exercise 1"
   ]
  }
 ],
 "metadata": {
  "kernelspec": {
   "display_name": "Python 3 (ipykernel)",
   "language": "python",
   "name": "python3"
  },
  "language_info": {
   "codemirror_mode": {
    "name": "ipython",
    "version": 3
   },
   "file_extension": ".py",
   "mimetype": "text/x-python",
   "name": "python",
   "nbconvert_exporter": "python",
   "pygments_lexer": "ipython3",
   "version": "3.9.7"
  }
 },
 "nbformat": 4,
 "nbformat_minor": 5
}
