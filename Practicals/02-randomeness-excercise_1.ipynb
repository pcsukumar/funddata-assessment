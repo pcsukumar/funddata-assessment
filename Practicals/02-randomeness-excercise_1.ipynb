{
 "cells": [
  {
   "cell_type": "markdown",
   "id": "64ce9c0c-305f-43b2-9258-eb3a9497ebff",
   "metadata": {},
   "source": [
    "## 02 Randomness Exercise 1"
   ]
  },
  {
   "cell_type": "markdown",
   "id": "334f75d7-567f-48e2-a39c-ababd7e22605",
   "metadata": {},
   "source": [
    "<h3 style=\"color: #001a79;\">Exercise 1</h3>\n",
    "\n",
    "<hr style=\"border-top: 1px solid #001a79;\" />\n",
    "\n",
    "<i h3 style=\"color: #001a79;\">It is somewhat interesting that `(5 * 4 * 3 * 2 * 1)` perfectly divides `(10 * 9 * 8 * 7 * 6)` - there's no remainder.\n",
    "\n",
    "<i h3 style=\"color: #001a79;\">If we only wanted exactly four heads as opposed to five, the equivalent calculation would be `(10 * 9 * 8 * 7) / (4 * 3 * 2 * 1)`.\n",
    "\n",
    "<i h3 style=\"color: #001a79;\">Does that evenly divide too? What is the formula in general?\n",
    "\n",
    "<i h3 style=\"color: #001a79;\">Does it always come out as a positive whole number? </i>\n",
    "\n",
    "<hr style=\"border-top: 1px solid #001a79;\" />"
   ]
  }
 ],
 "metadata": {
  "kernelspec": {
   "display_name": "Python 3 (ipykernel)",
   "language": "python",
   "name": "python3"
  },
  "language_info": {
   "codemirror_mode": {
    "name": "ipython",
    "version": 3
   },
   "file_extension": ".py",
   "mimetype": "text/x-python",
   "name": "python",
   "nbconvert_exporter": "python",
   "pygments_lexer": "ipython3",
   "version": "3.9.7"
  }
 },
 "nbformat": 4,
 "nbformat_minor": 5
}
