{
 "cells": [
  {
   "cell_type": "markdown",
   "id": "64ce9c0c-305f-43b2-9258-eb3a9497ebff",
   "metadata": {},
   "source": [
    "## 02 Randomness Exercise 1"
   ]
  },
  {
   "cell_type": "markdown",
   "id": "334f75d7-567f-48e2-a39c-ababd7e22605",
   "metadata": {
    "tags": []
   },
   "source": [
    "<h3 style=\"color: #001a79;\">Exercise 1</h3>\n",
    "\n",
    "<hr style=\"border-top: 1px solid #001a79;\" />\n",
    "\n",
    "<i h3 style=\"color: #001a79;\">It is somewhat interesting that `(5 * 4 * 3 * 2 * 1)` perfectly divides `(10 * 9 * 8 * 7 * 6)` - there's no remainder.\n",
    "\n",
    "<i h3 style=\"color: #001a79;\">If we only wanted exactly four heads as opposed to five, the equivalent calculation would be `(10 * 9 * 8 * 7) / (4 * 3 * 2 * 1)`.\n",
    "\n",
    "<i h3 style=\"color: #001a79;\">a) Does that evenly divide too? \n",
    "\n",
    "<i h3 style=\"color: #001a79;\">b) What is the formula in general?\n",
    "\n",
    "<i h3 style=\"color: #001a79;\">c) Does it always come out as a positive whole number? </i>\n",
    "\n",
    "<hr style=\"border-top: 1px solid #001a79;\" />"
   ]
  },
  {
   "cell_type": "markdown",
   "id": "084f7b52-4b66-41ff-8296-1cae2894b3bd",
   "metadata": {},
   "source": [
    "a) This will be evenly divided."
   ]
  },
  {
   "cell_type": "code",
   "execution_count": 2,
   "id": "4714e348-1253-495b-9d62-f6855188f6b1",
   "metadata": {},
   "outputs": [
    {
     "data": {
      "text/plain": [
       "210"
      ]
     },
     "execution_count": 2,
     "metadata": {},
     "output_type": "execute_result"
    }
   ],
   "source": [
    "(10 * 9 * 8 * 7) // (4 * 3 * 2 * 1)"
   ]
  },
  {
   "cell_type": "markdown",
   "id": "80b1e79d-0180-4488-99ce-f74b89192534",
   "metadata": {},
   "source": [
    "b) The formula in general is called Binomial coefficient which is used to calculate the number of ways to choose a subset of items from a set.\n",
    "\n",
    "The general formual can be expressed as \n",
    "\n",
    "n! / (k! * (n-k)!)\n",
    "\n",
    "For example if we want to calculate how many ways we can get 4 heads from 10 coin flips, the binomial coefficient for this would be 10 choose 4, which can be written as the following formula:\n",
    "\n",
    "(10! / (4! * (10-4)!)) = \n",
    "(1 * 2 * 3 * 4 * 5 * 6 * 7 * 8 * 9 * 10) / (1 * 2 * 3 * 4) * (1 * 2 * 3 * 4 * 5 * 6)  = \n",
    "(7 * 8 * 9 * 10) / (1 * 2 * 3 * 4) = 210"
   ]
  },
  {
   "cell_type": "markdown",
   "id": "6a327369-b040-4842-b72b-54a9d219d52e",
   "metadata": {},
   "source": [
    "C) As the Binomial coefficient will give us how many ways we can choose a subset of items from a larger set, this number will always be a positive whole number."
   ]
  }
 ],
 "metadata": {
  "kernelspec": {
   "display_name": "Python 3 (ipykernel)",
   "language": "python",
   "name": "python3"
  },
  "language_info": {
   "codemirror_mode": {
    "name": "ipython",
    "version": 3
   },
   "file_extension": ".py",
   "mimetype": "text/x-python",
   "name": "python",
   "nbconvert_exporter": "python",
   "pygments_lexer": "ipython3",
   "version": "3.9.7"
  }
 },
 "nbformat": 4,
 "nbformat_minor": 5
}
