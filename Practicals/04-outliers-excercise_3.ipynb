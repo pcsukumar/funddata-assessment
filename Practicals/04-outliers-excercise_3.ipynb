{
 "cells": [
  {
   "cell_type": "markdown",
   "id": "f72db467-3c3e-4083-811f-8750ccddfc7f",
   "metadata": {},
   "source": [
    "### 04 Outliers-Excercise 3"
   ]
  }
 ],
 "metadata": {
  "kernelspec": {
   "display_name": "Python 3 (ipykernel)",
   "language": "python",
   "name": "python3"
  },
  "language_info": {
   "codemirror_mode": {
    "name": "ipython",
    "version": 3
   },
   "file_extension": ".py",
   "mimetype": "text/x-python",
   "name": "python",
   "nbconvert_exporter": "python",
   "pygments_lexer": "ipython3",
   "version": "3.9.7"
  }
 },
 "nbformat": 4,
 "nbformat_minor": 5
}
