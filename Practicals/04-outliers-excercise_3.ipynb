{
 "cells": [
  {
   "cell_type": "markdown",
   "id": "f72db467-3c3e-4083-811f-8750ccddfc7f",
   "metadata": {},
   "source": [
    "### 04 Outliers-Excercise 3"
   ]
  },
  {
   "cell_type": "markdown",
   "id": "11cafa7a-fa4c-4d68-b847-777c42bcd058",
   "metadata": {},
   "source": [
    "<h3 style=\"color: #001a79;\">Exercise 3</h3>\n",
    "\n",
    "<hr style=\"border-top: 1px solid #001a79;\" />\n",
    "\n",
    "<i h3 style=\"color: #001a79;\">Adapt the code in the class note so that the overall plot is inversely propertional and the individual groups are directly proportional.</i>\n",
    "\n",
    "<hr style=\"border-top: 1px solid #001a79;\" />"
   ]
  }
 ],
 "metadata": {
  "kernelspec": {
   "display_name": "Python 3 (ipykernel)",
   "language": "python",
   "name": "python3"
  },
  "language_info": {
   "codemirror_mode": {
    "name": "ipython",
    "version": 3
   },
   "file_extension": ".py",
   "mimetype": "text/x-python",
   "name": "python",
   "nbconvert_exporter": "python",
   "pygments_lexer": "ipython3",
   "version": "3.9.7"
  }
 },
 "nbformat": 4,
 "nbformat_minor": 5
}
