{
 "cells": [
  {
   "cell_type": "markdown",
   "id": "119010f8-e95d-4024-9466-bdbfc8d3009a",
   "metadata": {
    "tags": []
   },
   "source": [
    "### 03 Bias-Excercise 2"
   ]
  },
  {
   "cell_type": "markdown",
   "id": "e2ca8137-8baa-44d6-ac86-179d93ead728",
   "metadata": {},
   "source": [
    "<h3 style=\"color: #001a79;\">Exercise 2</h3>\n",
    "\n",
    "<hr style=\"border-top: 1px solid #001a79;\" />\n",
    "\n",
    "<i h3 style=\"color: #001a79;\">Show that the difference between the standard deviation calculations is greatest for small sample sizes.</i>\n",
    "\n",
    "<hr style=\"border-top: 1px solid #001a79;\" />"
   ]
  },
  {
   "cell_type": "markdown",
   "id": "7e960b00-305e-4520-a781-dd134c524f78",
   "metadata": {},
   "source": [
    "To show this, first generate a population of 100000 random integers and calculate the population standard deviation. Then select samples of different size from this popoulation and check the standrd deviation against the population standard deviation. The differences are plotted to show that difference between the standard deviation calculations is greatest for small sample sizes."
   ]
  },
  {
   "cell_type": "code",
   "execution_count": 53,
   "id": "48797686-e98e-4440-8ae6-be20775c1fa0",
   "metadata": {
    "tags": []
   },
   "outputs": [],
   "source": [
    "import numpy as np\n",
    "import matplotlib.pyplot as plt\n",
    "\n",
    "# Set the seed for reproducibility\n",
    "np.random.seed(0)\n",
    "\n",
    "# Generate 100,000 random integers between 0 and 100\n",
    "population = np.random.randint(low=0, high=101, size=100000, dtype='int64')\n"
   ]
  },
  {
   "cell_type": "code",
   "execution_count": 54,
   "id": "56c8459d-41a3-48fc-95b8-0323b4a27a6e",
   "metadata": {},
   "outputs": [
    {
     "data": {
      "text/plain": [
       "29.15269135870477"
      ]
     },
     "execution_count": 54,
     "metadata": {},
     "output_type": "execute_result"
    }
   ],
   "source": [
    "#Population standard deviation\n",
    "pop_std = np.std(population)\n",
    "pop_std"
   ]
  },
  {
   "cell_type": "code",
   "execution_count": 55,
   "id": "071e6881-c4fd-44b4-8f37-72372a8590aa",
   "metadata": {},
   "outputs": [],
   "source": [
    "#Select random numbers of differnt size from the population\n",
    "sample_sizes = [5, 10, 20, 50, 100, 200, 500, 1000, 2000, 5000, 10000]"
   ]
  },
  {
   "cell_type": "code",
   "execution_count": 56,
   "id": "354aab14-0828-4e99-95f8-050780250426",
   "metadata": {},
   "outputs": [
    {
     "name": "stdout",
     "output_type": "stream",
     "text": [
      "[24.795160818191924, 23.543364245578836, 28.487892164918062, 28.554509276119596, 28.231207908979027, 28.832869697621152, 28.991964334967026, 29.54630426973905, 29.375624550807427, 28.942769580674202, 29.15767595522661]\n"
     ]
    }
   ],
   "source": [
    "# Select random samples of different size from the population and calculte standard deviation of each sample\n",
    "\n",
    "#Initialize list to save standard deviations\n",
    "sample_stds = []\n",
    "np.random.seed(1)\n",
    "#Loop through the sample sizes and calculate standard deviation of each sample\n",
    "for size in sample_sizes:\n",
    "    sample = np.random.choice(population, size=size, replace=True)\n",
    "    sample_std = np.std(sample)\n",
    "    sample_stds.append(sample_std)\n",
    "print(sample_stds)"
   ]
  },
  {
   "cell_type": "code",
   "execution_count": 61,
   "id": "ce451b9a-f1af-4287-ac40-06b3e311f1fa",
   "metadata": {},
   "outputs": [
    {
     "name": "stdout",
     "output_type": "stream",
     "text": [
      "[4.3575305405128475, 5.609327113125936, 0.6647991937867097, 0.5981820825851756, 0.9214834497257449, 0.3198216610836191, 0.1607270237377456, -0.3936129110342783, -0.22293319210265494, 0.20992177803056933, -0.004984596521836693]\n"
     ]
    }
   ],
   "source": [
    "#Calculate the difference between population standard deviation and sample standard deviations\n",
    "differences = []\n",
    "# Loop through the sample standard deviations\n",
    "for sample_std in sample_stds:\n",
    "    difference = pop_std - sample_std\n",
    "    differences.append(difference)\n",
    "print(differences)"
   ]
  },
  {
   "cell_type": "code",
   "execution_count": 62,
   "id": "701b55ce-bb10-4955-abc4-457e9a95a347",
   "metadata": {},
   "outputs": [
    {
     "data": {
      "image/png": "[encoded data removed]",
      "text/plain": [
       "<Figure size 432x288 with 1 Axes>"
      ]
     },
     "metadata": {
      "needs_background": "light"
     },
     "output_type": "display_data"
    }
   ],
   "source": [
    "# Plot the sample size on the x-axis and the difference between the standard deviations on the y-axis\n",
    "plt.plot(sample_sizes, differences)\n",
    "plt.xlabel('Sample size')\n",
    "plt.ylabel('Difference between standard deviation calculations')\n",
    "plt.show()"
   ]
  },
  {
   "cell_type": "markdown",
   "id": "e4babc8a-43bc-43cc-a800-c3f312e33973",
   "metadata": {},
   "source": [
    "The above figure shows that the difference is greatest for small sample sizes and decreases as the sample size increases."
   ]
  }
 ],
 "metadata": {
  "kernelspec": {
   "display_name": "Python 3 (ipykernel)",
   "language": "python",
   "name": "python3"
  },
  "language_info": {
   "codemirror_mode": {
    "name": "ipython",
    "version": 3
   },
   "file_extension": ".py",
   "mimetype": "text/x-python",
   "name": "python",
   "nbconvert_exporter": "python",
   "pygments_lexer": "ipython3",
   "version": "3.9.7"
  }
 },
 "nbformat": 4,
 "nbformat_minor": 5
}
