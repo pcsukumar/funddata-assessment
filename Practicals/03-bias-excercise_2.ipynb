{
 "cells": [
  {
   "cell_type": "markdown",
   "id": "119010f8-e95d-4024-9466-bdbfc8d3009a",
   "metadata": {
    "tags": []
   },
   "source": [
    "### 03 Bias-Excercise 2"
   ]
  },
  {
   "cell_type": "markdown",
   "id": "e2ca8137-8baa-44d6-ac86-179d93ead728",
   "metadata": {},
   "source": [
    "<h3 style=\"color: #001a79;\">Exercise 2</h3>\n",
    "\n",
    "<hr style=\"border-top: 1px solid #001a79;\" />\n",
    "\n",
    "<i h3 style=\"color: #001a79;\">Show that the difference between the standard deviation calculations is greatest for small sample sizes.</i>\n",
    "\n",
    "<hr style=\"border-top: 1px solid #001a79;\" />"
   ]
  }
 ],
 "metadata": {
  "kernelspec": {
   "display_name": "Python 3 (ipykernel)",
   "language": "python",
   "name": "python3"
  },
  "language_info": {
   "codemirror_mode": {
    "name": "ipython",
    "version": 3
   },
   "file_extension": ".py",
   "mimetype": "text/x-python",
   "name": "python",
   "nbconvert_exporter": "python",
   "pygments_lexer": "ipython3",
   "version": "3.9.7"
  }
 },
 "nbformat": 4,
 "nbformat_minor": 5
}
