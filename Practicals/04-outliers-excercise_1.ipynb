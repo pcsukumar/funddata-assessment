{
 "cells": [
  {
   "cell_type": "markdown",
   "id": "05bffae7-ad51-4019-96c4-7face2eb42a0",
   "metadata": {},
   "source": [
    "### 04 Outliers-Excercise 1"
   ]
  },
  {
   "cell_type": "markdown",
   "id": "f7fd44fe-5640-4f11-b2e5-705613ac4018",
   "metadata": {},
   "source": [
    "<h3 style=\"color: #001a79;\">Exercise 1</h3>\n",
    "\n",
    "<hr style=\"border-top: 1px solid #001a79;\" />\n",
    "\n",
    "<i h3 style=\"color: #001a79;\">Create box plots on a single set of axes for all five experiments in the morley data set.</i>\n",
    "\n",
    "<hr style=\"border-top: 1px solid #001a79;\" />"
   ]
  },
  {
   "cell_type": "code",
   "execution_count": 2,
   "id": "d5f7b363-3bb2-47cb-bdff-13f640d2e93f",
   "metadata": {},
   "outputs": [],
   "source": [
    "import pandas as pd\n",
    "import numpy as np\n",
    "import matplotlib.pyplot as plt"
   ]
  },
  {
   "cell_type": "code",
   "execution_count": 3,
   "id": "62456fc3-f4cd-4758-99bc-6902d2b0aa20",
   "metadata": {},
   "outputs": [],
   "source": [
    "# Read in the morley data.\n",
    "data = pd.read_csv('morley.csv')"
   ]
  },
  {
   "cell_type": "code",
   "execution_count": 4,
   "id": "676c5b1b-0a9a-4d5c-8a5c-03367843523a",
   "metadata": {},
   "outputs": [
    {
     "data": {
      "text/html": [
       "<div>\n",
       "<style scoped>\n",
       "    .dataframe tbody tr th:only-of-type {\n",
       "        vertical-align: middle;\n",
       "    }\n",
       "\n",
       "    .dataframe tbody tr th {\n",
       "        vertical-align: top;\n",
       "    }\n",
       "\n",
       "    .dataframe thead th {\n",
       "        text-align: right;\n",
       "    }\n",
       "</style>\n",
       "<table border=\"1\" class=\"dataframe\">\n",
       "  <thead>\n",
       "    <tr style=\"text-align: right;\">\n",
       "      <th></th>\n",
       "      <th>Expt</th>\n",
       "      <th>Run</th>\n",
       "      <th>Speed</th>\n",
       "    </tr>\n",
       "  </thead>\n",
       "  <tbody>\n",
       "    <tr>\n",
       "      <th>0</th>\n",
       "      <td>1</td>\n",
       "      <td>1</td>\n",
       "      <td>850</td>\n",
       "    </tr>\n",
       "    <tr>\n",
       "      <th>1</th>\n",
       "      <td>1</td>\n",
       "      <td>2</td>\n",
       "      <td>740</td>\n",
       "    </tr>\n",
       "    <tr>\n",
       "      <th>2</th>\n",
       "      <td>1</td>\n",
       "      <td>3</td>\n",
       "      <td>900</td>\n",
       "    </tr>\n",
       "    <tr>\n",
       "      <th>3</th>\n",
       "      <td>1</td>\n",
       "      <td>4</td>\n",
       "      <td>1070</td>\n",
       "    </tr>\n",
       "    <tr>\n",
       "      <th>4</th>\n",
       "      <td>1</td>\n",
       "      <td>5</td>\n",
       "      <td>930</td>\n",
       "    </tr>\n",
       "    <tr>\n",
       "      <th>...</th>\n",
       "      <td>...</td>\n",
       "      <td>...</td>\n",
       "      <td>...</td>\n",
       "    </tr>\n",
       "    <tr>\n",
       "      <th>95</th>\n",
       "      <td>5</td>\n",
       "      <td>16</td>\n",
       "      <td>940</td>\n",
       "    </tr>\n",
       "    <tr>\n",
       "      <th>96</th>\n",
       "      <td>5</td>\n",
       "      <td>17</td>\n",
       "      <td>950</td>\n",
       "    </tr>\n",
       "    <tr>\n",
       "      <th>97</th>\n",
       "      <td>5</td>\n",
       "      <td>18</td>\n",
       "      <td>800</td>\n",
       "    </tr>\n",
       "    <tr>\n",
       "      <th>98</th>\n",
       "      <td>5</td>\n",
       "      <td>19</td>\n",
       "      <td>810</td>\n",
       "    </tr>\n",
       "    <tr>\n",
       "      <th>99</th>\n",
       "      <td>5</td>\n",
       "      <td>20</td>\n",
       "      <td>870</td>\n",
       "    </tr>\n",
       "  </tbody>\n",
       "</table>\n",
       "<p>100 rows × 3 columns</p>\n",
       "</div>"
      ],
      "text/plain": [
       "    Expt  Run  Speed\n",
       "0      1    1    850\n",
       "1      1    2    740\n",
       "2      1    3    900\n",
       "3      1    4   1070\n",
       "4      1    5    930\n",
       "..   ...  ...    ...\n",
       "95     5   16    940\n",
       "96     5   17    950\n",
       "97     5   18    800\n",
       "98     5   19    810\n",
       "99     5   20    870\n",
       "\n",
       "[100 rows x 3 columns]"
      ]
     },
     "execution_count": 4,
     "metadata": {},
     "output_type": "execute_result"
    }
   ],
   "source": [
    "data"
   ]
  },
  {
   "cell_type": "code",
   "execution_count": 5,
   "id": "887d2f4e-4a54-4161-ad42-54bb17a626da",
   "metadata": {},
   "outputs": [
    {
     "name": "stdout",
     "output_type": "stream",
     "text": [
      "Expt     1    2    3    4    5\n",
      "Run                           \n",
      "1      850  960  880  890  890\n",
      "2      740  940  880  810  840\n",
      "3      900  960  880  810  780\n",
      "4     1070  940  860  820  810\n",
      "5      930  880  720  800  760\n",
      "6      850  800  720  770  810\n",
      "7      950  850  620  760  790\n",
      "8      980  880  860  740  810\n",
      "9      980  900  970  750  820\n",
      "10     880  840  950  760  850\n",
      "11    1000  830  880  910  870\n",
      "12     980  790  910  920  870\n",
      "13     930  810  850  890  810\n",
      "14     650  880  870  860  740\n",
      "15     760  880  840  880  810\n",
      "16     810  830  840  720  940\n",
      "17    1000  800  850  840  950\n",
      "18    1000  790  840  850  800\n",
      "19     960  760  840  850  810\n",
      "20     960  800  840  780  870\n"
     ]
    }
   ],
   "source": [
    "# Use the pivot method to reshape the DataFrame so that each experiment as columns\n",
    "df_pivoted = data.pivot(index='Run', columns='Expt', values='Speed')\n",
    "\n",
    "print(df_pivoted)"
   ]
  },
  {
   "cell_type": "code",
   "execution_count": 9,
   "id": "82fdf83d-0e8b-4bff-aa38-35e7ec283c1a",
   "metadata": {},
   "outputs": [
    {
     "data": {
      "image/png": "[encoded data removed]",
      "text/plain": [
       "<Figure size 432x288 with 1 Axes>"
      ]
     },
     "metadata": {
      "needs_background": "light"
     },
     "output_type": "display_data"
    }
   ],
   "source": [
    "# Create a figure and an Axes object to enable add a title\n",
    "fig, ax = plt.subplots()\n",
    "\n",
    "# Create a box plot of all columns.\n",
    "df_pivoted.boxplot(column=[1, 2, 3, 4, 5])\n",
    "\n",
    "# Add a title\n",
    "ax.set_title(\"Morlery dataset Boxplot\")\n",
    "\n",
    "plt.show()"
   ]
  }
 ],
 "metadata": {
  "kernelspec": {
   "display_name": "Python 3 (ipykernel)",
   "language": "python",
   "name": "python3"
  },
  "language_info": {
   "codemirror_mode": {
    "name": "ipython",
    "version": 3
   },
   "file_extension": ".py",
   "mimetype": "text/x-python",
   "name": "python",
   "nbconvert_exporter": "python",
   "pygments_lexer": "ipython3",
   "version": "3.9.7"
  }
 },
 "nbformat": 4,
 "nbformat_minor": 5
}
