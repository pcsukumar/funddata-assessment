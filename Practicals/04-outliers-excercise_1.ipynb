{
 "cells": [
  {
   "cell_type": "markdown",
   "id": "05bffae7-ad51-4019-96c4-7face2eb42a0",
   "metadata": {},
   "source": [
    "### 04 Outliers-Excercise 1"
   ]
  }
 ],
 "metadata": {
  "kernelspec": {
   "display_name": "Python 3 (ipykernel)",
   "language": "python",
   "name": "python3"
  },
  "language_info": {
   "codemirror_mode": {
    "name": "ipython",
    "version": 3
   },
   "file_extension": ".py",
   "mimetype": "text/x-python",
   "name": "python",
   "nbconvert_exporter": "python",
   "pygments_lexer": "ipython3",
   "version": "3.9.7"
  }
 },
 "nbformat": 4,
 "nbformat_minor": 5
}
