{
 "cells": [
  {
   "cell_type": "markdown",
   "id": "43d21b20-1e8e-49d5-ad4e-ce673d5e2b34",
   "metadata": {},
   "source": [
    "## Exercise 2"
   ]
  },
  {
   "cell_type": "markdown",
   "id": "1e55f5aa-b88d-4e4a-984f-b4adf89b0f57",
   "metadata": {},
   "source": [
    "#### Explain why the log of zero is undefined."
   ]
  },
  {
   "cell_type": "code",
   "execution_count": null,
   "id": "7603b698-4ff3-4fc2-b89a-aa0928f8f393",
   "metadata": {},
   "outputs": [],
   "source": []
  }
 ],
 "metadata": {
  "kernelspec": {
   "display_name": "Python 3 (ipykernel)",
   "language": "python",
   "name": "python3"
  },
  "language_info": {
   "codemirror_mode": {
    "name": "ipython",
    "version": 3
   },
   "file_extension": ".py",
   "mimetype": "text/x-python",
   "name": "python",
   "nbconvert_exporter": "python",
   "pygments_lexer": "ipython3",
   "version": "3.9.7"
  }
 },
 "nbformat": 4,
 "nbformat_minor": 5
}
