{
 "cells": [
  {
   "cell_type": "markdown",
   "id": "54db8edc-fb88-4dd4-af8e-f526150d5350",
   "metadata": {},
   "source": [
    "## 03 Bias-Excercise 1"
   ]
  },
  {
   "cell_type": "markdown",
   "id": "5f734d71-4f05-4e0b-bab5-8f340647340f",
   "metadata": {},
   "source": [
    "<h3 style=\"color: #001a79;\">Exercise 1</h3>\n",
    "\n",
    "<hr style=\"border-top: 1px solid #001a79;\" />\n",
    "\n",
    "<i h3 style=\"color: #001a79;\">Give three real-world examples of different types of cognitive bias.</i>\n",
    "\n",
    "<hr style=\"border-top: 1px solid #001a79;\" />"
   ]
  },
  {
   "cell_type": "markdown",
   "id": "b073a38d-8455-4878-a860-d8aabb6df8ac",
   "metadata": {},
   "source": [
    "#### Anchoring bias "
   ]
  },
  {
   "cell_type": "markdown",
   "id": "4b6a3488-da7f-4499-86be-bf92abac3bce",
   "metadata": {},
   "source": [
    "Anchoring bias is a cognitive bias that occurs when people rely too heavily on the first piece of information they receive when making decisions. In real world, supermarkets use anchoring bias to influence customers' perceptions of prices and value. For example, when we go to budget supermarkets like Lidl and Aldi, we can see they are selling premium alchol brands which is usually mich higher price than their own brands. The strategy here is to create the feeling that the lower-priced item seem like a better deal by placing a high-priced item next to a lower-priced item. Overall, anchoring bias can be a powerful tool for influencing customers' perceptions of value and price in a supermarket setting. By carefully positioning products and setting reference prices, supermarkets can shape customers' decisions and encourage them to make purchases they might not have otherwise made."
   ]
  },
  {
   "cell_type": "markdown",
   "id": "9369bd57-1557-4ad8-9f36-b4a2aacb66ee",
   "metadata": {},
   "source": [
    "#### Confirmation Bias"
   ]
  },
  {
   "cell_type": "markdown",
   "id": "fad96033-3f18-4ca6-8bae-c4d04ba43cfd",
   "metadata": {},
   "source": [
    "Confirmation bias is our tendency to search for things in a way that ‘confirms’ our own pre-exisiting beliefs. Due to this bias, people usually selectively seek out information that supports their beliefs and to discount or ignore information that challenges them. People who have strong religious beliefs sometimes seek out information that supports their beliefs and ignore or reject information that challenges those beliefs. I have observed this bias particulary among people who have strong belief in astrology. They usually emphasise the astrological predictions that have come true, while ignoring or dismissing predictions that did not come true or that were not specific enough to be tested. This can lead to a reinforcement of their beliefs in astrology and a reduction in their willingness to consider alternative explanations or viewpoints."
   ]
  },
  {
   "cell_type": "markdown",
   "id": "6b38e76e-797b-4368-bbdf-88199e0d075c",
   "metadata": {},
   "source": [
    "#### Negativity Bias"
   ]
  },
  {
   "cell_type": "markdown",
   "id": "45fa9a92-a246-4b34-bc8e-144f1a624067",
   "metadata": {},
   "source": [
    "The negativity bias refers to our tendency to give more importance to negative events, experiences, or emotions than the positives ones of the same intensity. This suggests, genrally people are more likely to remember, pay attention to, and be influenced by negative events or experiences than by positive ones. Media usually use this strategy to intentionally emphasize or focuse more on negative events or information in order to attract attention and generate interest. This can be effective in getting people to pay attention to a particular issue or story and get more viewership/readership. Negativity bias can also be seen in the way that headlines are written for news stories. Headlines are often written to grab attention and draw readers in, and negative headlines tend to be more effective at doing this than positive ones. "
   ]
  }
 ],
 "metadata": {
  "kernelspec": {
   "display_name": "Python 3 (ipykernel)",
   "language": "python",
   "name": "python3"
  },
  "language_info": {
   "codemirror_mode": {
    "name": "ipython",
    "version": 3
   },
   "file_extension": ".py",
   "mimetype": "text/x-python",
   "name": "python",
   "nbconvert_exporter": "python",
   "pygments_lexer": "ipython3",
   "version": "3.9.7"
  }
 },
 "nbformat": 4,
 "nbformat_minor": 5
}
